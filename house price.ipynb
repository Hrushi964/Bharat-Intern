{
 "cells": [
  {
   "cell_type": "code",
   "execution_count": 2,
   "id": "848bea39",
   "metadata": {},
   "outputs": [],
   "source": [
    "import numpy as np\n",
    "import pandas as pd\n",
    "from sklearn.datasets import load_boston"
   ]
  },
  {
   "cell_type": "code",
   "execution_count": 3,
   "id": "9d58b81b",
   "metadata": {},
   "outputs": [
    {
     "name": "stderr",
     "output_type": "stream",
     "text": [
      "C:\\Users\\VIGNAN\\anaconda3\\lib\\site-packages\\sklearn\\utils\\deprecation.py:87: FutureWarning: Function load_boston is deprecated; `load_boston` is deprecated in 1.0 and will be removed in 1.2.\n",
      "\n",
      "    The Boston housing prices dataset has an ethical problem. You can refer to\n",
      "    the documentation of this function for further details.\n",
      "\n",
      "    The scikit-learn maintainers therefore strongly discourage the use of this\n",
      "    dataset unless the purpose of the code is to study and educate about\n",
      "    ethical issues in data science and machine learning.\n",
      "\n",
      "    In this special case, you can fetch the dataset from the original\n",
      "    source::\n",
      "\n",
      "        import pandas as pd\n",
      "        import numpy as np\n",
      "\n",
      "\n",
      "        data_url = \"http://lib.stat.cmu.edu/datasets/boston\"\n",
      "        raw_df = pd.read_csv(data_url, sep=\"\\s+\", skiprows=22, header=None)\n",
      "        data = np.hstack([raw_df.values[::2, :], raw_df.values[1::2, :2]])\n",
      "        target = raw_df.values[1::2, 2]\n",
      "\n",
      "    Alternative datasets include the California housing dataset (i.e.\n",
      "    :func:`~sklearn.datasets.fetch_california_housing`) and the Ames housing\n",
      "    dataset. You can load the datasets as follows::\n",
      "\n",
      "        from sklearn.datasets import fetch_california_housing\n",
      "        housing = fetch_california_housing()\n",
      "\n",
      "    for the California housing dataset and::\n",
      "\n",
      "        from sklearn.datasets import fetch_openml\n",
      "        housing = fetch_openml(name=\"house_prices\", as_frame=True)\n",
      "\n",
      "    for the Ames housing dataset.\n",
      "    \n",
      "  warnings.warn(msg, category=FutureWarning)\n"
     ]
    }
   ],
   "source": [
    "df=load_boston()"
   ]
  },
  {
   "cell_type": "code",
   "execution_count": 5,
   "id": "bb5faa23",
   "metadata": {},
   "outputs": [
    {
     "data": {
      "text/plain": [
       "array(['CRIM', 'ZN', 'INDUS', 'CHAS', 'NOX', 'RM', 'AGE', 'DIS', 'RAD',\n",
       "       'TAX', 'PTRATIO', 'B', 'LSTAT'], dtype='<U7')"
      ]
     },
     "execution_count": 5,
     "metadata": {},
     "output_type": "execute_result"
    }
   ],
   "source": [
    "df[\"feature_names\"]"
   ]
  },
  {
   "cell_type": "code",
   "execution_count": 6,
   "id": "c2072e2f",
   "metadata": {},
   "outputs": [],
   "source": [
    "x=df[\"data\"]\n",
    "y=df[\"target\"] "
   ]
  },
  {
   "cell_type": "code",
   "execution_count": 32,
   "id": "cd64827f",
   "metadata": {},
   "outputs": [],
   "source": [
    "from sklearn.linear_model import Ridge"
   ]
  },
  {
   "cell_type": "code",
   "execution_count": 33,
   "id": "c7d7af72",
   "metadata": {},
   "outputs": [],
   "source": [
    "lr=Ridge(alpha=0.0001)"
   ]
  },
  {
   "cell_type": "code",
   "execution_count": 9,
   "id": "360ac01e",
   "metadata": {},
   "outputs": [],
   "source": [
    "from sklearn.model_selection import train_test_split"
   ]
  },
  {
   "cell_type": "code",
   "execution_count": 10,
   "id": "fd37894f",
   "metadata": {},
   "outputs": [],
   "source": [
    "x_train,x_test,y_train,y_test=train_test_split(x,y,random_state=30)"
   ]
  },
  {
   "cell_type": "code",
   "execution_count": 34,
   "id": "bc7f4738",
   "metadata": {},
   "outputs": [
    {
     "data": {
      "text/plain": [
       "Ridge(alpha=0.0001)"
      ]
     },
     "execution_count": 34,
     "metadata": {},
     "output_type": "execute_result"
    }
   ],
   "source": [
    "lr.fit(x_train,y_train)"
   ]
  },
  {
   "cell_type": "code",
   "execution_count": 35,
   "id": "9833de1b",
   "metadata": {},
   "outputs": [
    {
     "data": {
      "text/plain": [
       "array([1.76699713e+01, 1.22441044e+01, 2.03231607e+01, 3.17484883e+01,\n",
       "       1.56542387e+01, 1.81512338e+01, 1.94871760e+01, 4.13248278e+01,\n",
       "       1.55201364e+01, 2.46422363e+01, 2.00236902e+01, 3.29009233e+01,\n",
       "       2.14438412e+01, 3.01453965e+01, 1.32965760e+01, 2.37689026e+01,\n",
       "       1.36924912e+01, 2.80893618e+01, 1.54587315e+01, 2.73412963e+01,\n",
       "       2.08902397e+01, 1.76451559e+01, 3.10871531e+01, 1.29999302e+01,\n",
       "       1.53050104e+01, 1.66541779e+01, 1.82148997e+01, 2.90009436e-02,\n",
       "       1.37189908e+01, 1.35250737e+01, 1.70337978e+01, 2.37473947e+01,\n",
       "       3.29812814e+01, 2.86166288e+01, 1.95802810e+01, 2.22466975e+01,\n",
       "       1.20296968e+01, 2.28526677e+01, 2.03820753e+01, 1.98139673e+01,\n",
       "       1.83412807e+01, 2.02670484e+01, 4.05382581e+01, 2.42013938e+01,\n",
       "       2.68107246e+01, 2.06405577e+01, 2.22153017e+01, 1.76887817e+01,\n",
       "       1.84437429e+01, 1.54030397e+01, 1.55935131e+01, 1.82871831e+01,\n",
       "       1.90643022e+01, 2.52447152e+01, 3.15202705e+01, 2.33217974e+01,\n",
       "       3.72527712e+01, 2.55943608e+01, 1.57674574e+01, 3.57529542e+01,\n",
       "       2.42805474e+01, 1.98552727e+01, 3.08867050e+01, 2.06491494e+01,\n",
       "       1.79924772e+01, 1.03826644e+01, 1.71748271e+01, 2.44477549e+01,\n",
       "       3.52729142e+01, 3.26516008e+01, 1.76443617e+01, 2.54286720e+01,\n",
       "       2.05438018e+01, 2.72027998e+01, 2.92213199e+01, 2.25188689e+01,\n",
       "       5.46734290e+00, 2.33602426e+01, 2.39189871e+01, 3.42468177e+01,\n",
       "       1.87037636e+01, 2.46324424e+01, 2.86974754e+01, 2.33601909e+01,\n",
       "       2.51743847e+01, 3.62577989e+01, 3.65182174e+01, 2.48021058e+01,\n",
       "       2.45079564e+01, 1.92466888e+01, 2.17493581e+01, 2.54591977e+01,\n",
       "       1.85469792e+01, 2.81961303e+01, 7.86134758e+00, 1.61979581e+01,\n",
       "       3.10750856e+00, 2.88178677e+01, 1.95213525e+01, 2.79538782e+01,\n",
       "       2.41571027e+01, 1.85454625e+01, 2.28709778e+01, 1.52576120e+01,\n",
       "       1.47066747e+01, 2.29277737e+01, 3.33961973e+01, 1.48158796e+01,\n",
       "       2.60895322e+01, 3.17087623e+01, 2.38292954e+01, 2.85065854e+01,\n",
       "       2.00525197e+01, 2.51284760e+01, 1.40989857e+01, 2.40079151e+01,\n",
       "       2.07061224e+01, 3.41588491e+01, 1.78725576e+01, 1.72480476e+01,\n",
       "       1.86261819e+01, 2.50174840e+01, 2.30846516e+01, 9.99019535e+00,\n",
       "       1.36036051e+01, 1.63677696e+01, 3.14703716e+01])"
      ]
     },
     "execution_count": 35,
     "metadata": {},
     "output_type": "execute_result"
    }
   ],
   "source": [
    "lr.predict(x_test)"
   ]
  },
  {
   "cell_type": "code",
   "execution_count": 36,
   "id": "9150ac48",
   "metadata": {},
   "outputs": [
    {
     "data": {
      "text/plain": [
       "0.7417565497159884"
      ]
     },
     "execution_count": 36,
     "metadata": {},
     "output_type": "execute_result"
    }
   ],
   "source": [
    "lr.score(x_test,y_test)"
   ]
  },
  {
   "cell_type": "code",
   "execution_count": null,
   "id": "a2b21973",
   "metadata": {},
   "outputs": [],
   "source": []
  }
 ],
 "metadata": {
  "kernelspec": {
   "display_name": "Python 3 (ipykernel)",
   "language": "python",
   "name": "python3"
  },
  "language_info": {
   "codemirror_mode": {
    "name": "ipython",
    "version": 3
   },
   "file_extension": ".py",
   "mimetype": "text/x-python",
   "name": "python",
   "nbconvert_exporter": "python",
   "pygments_lexer": "ipython3",
   "version": "3.9.12"
  }
 },
 "nbformat": 4,
 "nbformat_minor": 5
}
